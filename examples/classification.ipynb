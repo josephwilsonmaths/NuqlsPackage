{
 "cells": [
  {
   "cell_type": "code",
   "execution_count": null,
   "id": "553bedf3",
   "metadata": {},
   "outputs": [],
   "source": [
    "import torch\n",
    "import torchvision.transforms as transforms\n",
    "from torchvision import datasets\n",
    "from classificationutils.resnet import ResNet50\n",
    "\n",
    "torch.set_default_dtype(torch.float64)\n",
    "\n",
    "device = (\n",
    "    \"cuda\"\n",
    "    if torch.cuda.is_available()\n",
    "    else \"mps\"\n",
    "    if torch.backends.mps.is_available()\n",
    "    else \"cpu\"\n",
    ")\n",
    "print(f\"\\n Using {device} device\")\n",
    "print(f\"CUDA version: {torch.version.cuda}\")"
   ]
  },
  {
   "cell_type": "code",
   "execution_count": null,
   "id": "b392b3ec",
   "metadata": {},
   "outputs": [],
   "source": [
    "transform_train = transforms.Compose([\n",
    "    transforms.RandomCrop(32, padding=4),\n",
    "    transforms.RandomHorizontalFlip(),\n",
    "    transforms.ToTensor(),\n",
    "    transforms.Normalize((0.4376821, 0.4437697, 0.47280442), (0.19803012, 0.20101562, 0.19703614)),\n",
    "])\n",
    "\n",
    "transform_test = transforms.Compose([\n",
    "    transforms.ToTensor(),\n",
    "    transforms.Normalize((0.4376821, 0.4437697, 0.47280442), (0.19803012, 0.20101562, 0.19703614)),\n",
    "])\n",
    "\n",
    "training_data = datasets.SVHN(\n",
    "    root=\"examples/data/SVHN\",\n",
    "    split='train',\n",
    "    download=True,\n",
    "    transform=transform_train\n",
    ")\n",
    "\n",
    "test_data = datasets.SVHN(\n",
    "    root=\"examples/data/SVHN\",\n",
    "    split='test',\n",
    "    download=True,\n",
    "    transform=transform_test\n",
    ")\n",
    "\n",
    "transform_test_cifar = transforms.Compose([\n",
    "    transforms.ToTensor(),\n",
    "    transforms.Normalize((0.4914, 0.4822, 0.4465), (0.2023, 0.1994, 0.2010)),\n",
    "])\n",
    "\n",
    "ood_test_data = datasets.CIFAR10(\n",
    "    root=\"examples/data/CIFAR10\",\n",
    "    train=False,\n",
    "    download=True,\n",
    "    transform=transform_test_cifar\n",
    ") \n",
    "\n",
    "n_output = 10\n",
    "n_channels = 3"
   ]
  },
  {
   "cell_type": "code",
   "execution_count": null,
   "id": "60b28939",
   "metadata": {},
   "outputs": [],
   "source": [
    "net = ResNet50(in_channels=n_channels, num_classes = n_output)\n",
    "net.load_state_dict(torch.load(f'classificationutils/resnet50_trained_svhn.pt', weights_only=True))\n"
   ]
  },
  {
   "cell_type": "code",
   "execution_count": null,
   "id": "2f54603d",
   "metadata": {},
   "outputs": [],
   "source": [
    "from nuqls.posterior import Nuqls\n",
    "\n",
    "nuqls_posterior = Nuqls(net, task='classification')\n",
    "loss,acc = nuqls_posterior.train(train=training_data, \n",
    "                    train_bs=152, \n",
    "                    n_output=n_output,\n",
    "                    S=10,\n",
    "                    scale=0.0025, \n",
    "                    lr=1e-2, \n",
    "                    epochs=2, \n",
    "                    mu=0.9,\n",
    "                    verbose=True,\n",
    "                    extra_verbose=True)\n",
    "\n",
    "id_logits = nuqls_posterior.test(test_data, test_bs=152) \n",
    "id_predictions = id_logits.softmax(dim=2)\n",
    "id_variance = id_predictions.var(0)\n",
    "\n",
    "ood_logits = nuqls_posterior.test(ood_test_data, test_bs=152)\n",
    "ood_predictions = ood_logits.softmax(dim=2)\n",
    "ood_variance = ood_predictions.var(0)"
   ]
  },
  {
   "cell_type": "code",
   "execution_count": null,
   "id": "9445c3f3",
   "metadata": {},
   "outputs": [],
   "source": [
    "nuqls_variance = classificationutils.metrics.sort_probabilies(id_predictions.to('cpu'), ood_predictions.to('cpu'), test_data=test_data)\n",
    "nuqls_variance = classificationutils.metrics.add_baseline(nuqls_variance,test_data,ood_test_data)\n",
    "\n",
    "classificationutils.metrics.plot_vmsp(prob_dict=nuqls_variance,\n",
    "                          title=f'SVHN ResNet50',\n",
    "                          save_fig=f\"examples/images/vmsp_plot.pdf\")"
   ]
  }
 ],
 "metadata": {
  "language_info": {
   "name": "python"
  }
 },
 "nbformat": 4,
 "nbformat_minor": 5
}
